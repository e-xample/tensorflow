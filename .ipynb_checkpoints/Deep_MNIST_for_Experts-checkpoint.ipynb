{
 "cells": [
  {
   "cell_type": "markdown",
   "metadata": {},
   "source": [
    "# Deep MNIST for Experts\n",
    "\n",
    "Tensor Flowのチュートリアル「Deep MNIST for Experts」に沿って解説します。<br>\n",
    "<a href=\"https://www.tensorflow.org/versions/r0.10/tutorials/index.html\">View Tutrial</a>"
   ]
  },
  {
   "cell_type": "markdown",
   "metadata": {},
   "source": [
    "## 前回の復習\n",
    "\n",
    "Tensor Flowのチュートリアル「MNIST For ML Beginners」を簡単におさらい。<br>\n",
    "<a href=\"https://github.com/e-xample/tensorflow/blob/master/MNIST_For_ML_Beginners.ipynb\">詳しくはこちら</a>\n",
    "\n",
    "ニューラルネットワークのモデル構築のおおまかな流れ、覚えていますか？\n",
    "\n",
    "+ 学習データ・テストデータの準備\n",
    "+ 入出力の設計\n",
    "+ 入力層-出力層間のユニット結合の構造設計\n",
    "+ パラメータ(重みW, バイアスb)の初期化\n",
    "+ 出力層の出力定義\n",
    "+ 損失関数の定義\n",
    "+ 最適化アルゴリズムの定義\n",
    "+ 評価関数の定義\n",
    "+ パラメータの学習\n",
    "+ 評価\n",
    "\n",
    "この流れを押さえた上で、前回のチュートリアル「MNIST For ML Beginners」のフルコードを見てみましょう！"
   ]
  },
  {
   "cell_type": "code",
   "execution_count": 1,
   "metadata": {
    "collapsed": false
   },
   "outputs": [
    {
     "name": "stdout",
     "output_type": "stream",
     "text": [
      "Extracting MNIST_data/train-images-idx3-ubyte.gz\n",
      "Extracting MNIST_data/train-labels-idx1-ubyte.gz\n",
      "Extracting MNIST_data/t10k-images-idx3-ubyte.gz\n",
      "Extracting MNIST_data/t10k-labels-idx1-ubyte.gz\n",
      "0.9211\n"
     ]
    }
   ],
   "source": [
    "import tensorflow as tf\n",
    "\n",
    "# 学習データ・テストデータの準備(手書き文字のロード)\n",
    "from tensorflow.examples.tutorials.mnist import input_data\n",
    "mnist = input_data.read_data_sets('MNIST_data', one_hot=True)\n",
    "\n",
    "sess = tf.InteractiveSession()\n",
    "\n",
    "# 入出力の設計(入力784次元、出力10次元)\n",
    "x = tf.placeholder(tf.float32, shape=[None, 784])\n",
    "y_ = tf.placeholder(tf.float32, shape=[None, 10])\n",
    "\n",
    "# 入力層-出力層間のユニット結合の構造設計(入力層、出力層の２層構造。Fully-Connected。)\n",
    "W = tf.Variable(tf.zeros([784,10]))\n",
    "b = tf.Variable(tf.zeros([10]))\n",
    "\n",
    "# パラメータ(重みW, バイアスb)の初期化\n",
    "sess.run(tf.initialize_all_variables())\n",
    "\n",
    "# 出力層の出力定義(出力層の活性化関数として、softmax関数を用いている)\n",
    "y = tf.nn.softmax(tf.matmul(x,W) + b)\n",
    "\n",
    "# 損失関数の定義(損失関数として、cross-entopy関数を用いている)\n",
    "cross_entropy = tf.reduce_mean(-tf.reduce_sum(y_ * tf.log(y), reduction_indices=[1]))\n",
    "\n",
    "# 最適化アルゴリズムの定義(最適化アルゴリズムとして、勾配降下法を用いている)\n",
    "train_step = tf.train.GradientDescentOptimizer(0.5).minimize(cross_entropy)\n",
    "\n",
    "# 評価関数の定義(正解率の表示)\n",
    "correct_prediction = tf.equal(tf.argmax(y,1), tf.argmax(y_,1))\n",
    "accuracy = tf.reduce_mean(tf.cast(correct_prediction, tf.float32))\n",
    "\n",
    "# パラメータ(重みW, バイアスb)の学習(学習方法として、確率的勾配降下法を用いている)\n",
    "for i in range(1000):\n",
    "    batch = mnist.train.next_batch(100)\n",
    "    train_step.run(feed_dict={x: batch[0], y_: batch[1]})\n",
    "    \n",
    "# 評価\n",
    "print(accuracy.eval(feed_dict={x: mnist.test.images, y_: mnist.test.labels}))"
   ]
  },
  {
   "cell_type": "markdown",
   "metadata": {},
   "source": [
    "<img src=\"Deep_MNIST_for_Experts/perceptron.jpg\">\n",
    "\n",
    "結果は92%でしたね！  \n",
    "「MNIST For ML Beginners」では、入力層と出力層の２層のみからなり、層間は全結合という簡単な構造を扱いました。  \n",
    "今回は「画像認識」というタスクに対する適切なニューラルネットワークモデルを考えてみましょう！"
   ]
  },
  {
   "cell_type": "markdown",
   "metadata": {},
   "source": [
    "## 畳み込みニューラルネットワーク(Convolutional Neural Network)\n",
    "\n",
    "下の画像は外から引っ張ってきたもので、今回扱っているモデルの構成とは若干異なりますので、参考程度に。\n",
    "<img src=\"Deep_MNIST_for_Experts/CNN.jpg\">\n",
    "今回は畳み込みニューラルネットワーク(以下、CNN)と呼ばれる構造のモデル(上の画像のような構成のモデル)を扱って手書き文字の認識を行います。  \n",
    "CNNは、一般的に後ほど説明する「畳み込み層」と「プーリング層」を何層か繰り返した後、全結合した「多層パーセプトロン」が配置される構成になっています。  \n",
    "脳の視覚野における神経科学の知見を基に開発されたモデルで、画像の特徴をうまく学習(認識)する構成として画像認識の分野で注目されています。\n",
    "\n",
    "### 入出力について\n",
    "「MNIST For ML Beginners」では、画像の列ベクトルに変換して入力としていました。  \n",
    "CNNでは、画像の２次元的な位置関係の情報を保存したまま学習するために、入力画像の各画素の符号化した2次元行列を入力とします。  \n",
    "前回と同様に10クラスの分類を行うので、出力は各クラスに分類される確率の分布とします。\n",
    "\n",
    "### 入力層-出力層間のユニット結合の構造について\n",
    "\n",
    "「Deep MNIST for Experts」では、  \n",
    "「入力層」-「第1畳み込み層」-「第1プーリング層」-「第2畳み込み層」-「第2プーリング層」-「第1全結合層」-「第2全結合層」-「出力層」  \n",
    "の8層構造のCNNを扱います。\n",
    "\n",
    "#### 畳み込み層(Convolution Layer)\n",
    "畳み込み層は、入力された画像に小サイズの二次元フィルタを畳み込む演算を行うことで、画像の持つ局所的な特徴を抽出する役割を果たす層です。  \n",
    "畳み込む演算とは、二次元フィルタに割り当てられた重みとバイアスと入力の積和をとる演算のことを言います。  \n",
    "この二次元フィルタを画像内の各位置に移動させて同様の演算を適用し、結果として得られる２次元の出力を畳み込み層の出力とします。  \n",
    "このフィルタにかけた出力画像は特徴マップ(Feature Map)と呼ばれています。  \n",
    "\n",
    "一般的に、二次元フィルタは異なる複数枚が用意され、二次元フィルタごとに特徴マップを得ます。  \n",
    "フィルタを増やすことで入力画像のさまざまな特徴を捉えられるようになります。  \n",
    "複数枚のフィルタによって得られた特徴マップの数を「チャネル」と呼んでいます。  \n",
    "\n",
    "なお、畳み込み層への入力となるチャネルが複数枚ある場合は、同一のフィルタを全チャネルにわたって畳み込み演算をした後、その和をとった値を出力とします。(下図参照)  \n",
    "また、今回はグレースケールの画像を扱っているので、最初の入力画像のチャネル数は1ですが、RGBの画像を入力とした場合、チャネル数は3となるので注意してください。\n",
    "\n",
    "<img src=\"Deep_MNIST_for_Experts/internal_convolution_layers.jpg\">\n",
    "\n",
    "CNNのモデルの特徴は、このフィルタを学習によって自動獲得できるという点です。  \n",
    "イメージとしては、入力された画像内の特徴的な情報に強く反応するような二次元フィルタを学習データから作り上げるイメージです。  \n",
    "\n",
    "最初、二次元フィルタの重み・バイアスにはランダムな値が入っていてよくわからない特徴にしか反応しないが、学習が進むと縦線や横線など画像認識に重要な特徴に強く反応するようになっていくようなフィルタが得られます。  \n",
    "これがDeep Learningの力の源で、(特徴)表現学習と呼ばれています。  \n",
    "すなわち、畳み込み層の二次元フィルタの重み・バイアスが、CNNにおける更新（学習）の対象となるパラメータとなります。\n",
    "\n",
    "以下に、学習前のフィルタを可視化した図と、学習後のフィルタを可視化した図を載せておきます。(<a href=\"http://aidiary.hatenablog.com/entry/20150626/1435329581\">こちらのサイトの画像を引用</a>)  \n",
    "確かに、学習後では各フィルタが手書き文字画像内に頻出しそうな輪郭を捉えたものとなっているように見えますね！\n",
    "\n",
    "　　　　　　　　　　　　[学習前のフィルタを可視化]\n",
    "<img src=\"Deep_MNIST_for_Experts/weight_before.png\">\n",
    "\n",
    "　　　　　　　　　　　　[学習後のフィルタを可視化]\n",
    "<img src=\"Deep_MNIST_for_Experts/weight_after.png\">\n",
    "\n",
    "#### プーリング層(Pooling Layer)\n",
    "入力された画像の小領域での値を一つの値に集約し解像度を落とすことで、抽出された特徴の位置が若干変化しても取り出される特徴はほとんど変化しないという特徴の不変性を獲得する役割を果たす層である。つまり、プーリング層の演算によって、表記ブレに対して頑健になるという効果があります。  \n",
    "プーリング層での演算は、入力された画像の小領域の最大値を出力するMax Poolingや、小領域の平均値を出力するMean Poolingなどがありますが、Max Poolingが使われることが多いようです。  \n",
    "プーリング層には、重みやバイアスはないため、プーリング層の出力に学習は影響しません。\n",
    "\n",
    "<img src=\"Deep_MNIST_for_Experts/conv-pool.png\">\n",
    "すごく畳み込み層とプーリング層の演算のイメージしやすい図なので、貼っておきました。\n",
    "\n",
    "#### 全結合層(Full-connected Layer)\n",
    "最後に、畳み込み層やプーリング層によって得られた特徴マップを全結合層の入力とし、全結合層の重み・バイアスを通して最終的に出力を得ます。   \n",
    "ここでは、畳み込み層やプーリング層を繰り返しすことで得られた\n",
    "全結合層の重み・バイアスも、CNNにおける更新（学習）の対象となるパラメータです。\n",
    "\n",
    "以上が、CNN全体のモデルの構造です。  "
   ]
  },
  {
   "cell_type": "markdown",
   "metadata": {},
   "source": [
    "## 実装しよう！\n",
    "\n",
    "### パラメータを初期化するための関数を用意\n",
    "安心してください！CNNの実装の流れも単純なNNとほぼ変わりないですよ\n",
    "\n",
    "まずは重みやバイアスを初期化する関数を定義しておきます。  \n",
    "今回は、単純な乱数で初期化するのではなく、（ある）平均値と分散に基づいて初期化されます。  \n",
    "単純な乱数で初期化するより精度が高くなるようです。  \n",
    "\n",
    "なお、バイアスはのフィルター内で一定の値とすることが一般的です。  \n",
    "ここでは、0.1で初期化していますね！"
   ]
  },
  {
   "cell_type": "code",
   "execution_count": 2,
   "metadata": {
    "collapsed": true
   },
   "outputs": [],
   "source": [
    "def weight_variable(shape):\n",
    "    initial = tf.truncated_normal(shape, stddev=0.1)\n",
    "    return tf.Variable(initial)\n",
    "\n",
    "def bias_variable(shape):\n",
    "    initial = tf.constant(0.1, shape=shape)\n",
    "    return tf.Variable(initial)"
   ]
  },
  {
   "cell_type": "markdown",
   "metadata": {},
   "source": [
    "### 畳み込み層とプーリング層の演算処理も関数を用意\n",
    "畳み込み層とプーリング層の演算処理も関数として定義しておきます。 \n",
    "\n",
    "stridesは、フィルタの移動幅を表しています。  \n",
    "\n",
    "畳み込み層におけるpadding='SAME'は、入力と出力の画像サイズが同じとなるようにするという意味。  \n",
    "画像の外側を何らかの値で外挿(パディング)してから畳み込みを行います。0や画像の終端の値でパディングするのが一般的です。\n",
    "\n",
    "プーリング層では、演算方法の性質上、フィルタのサイズによって出力の特徴マップのサイズは小さくなりますが、同様にパディングを行ってからプーリング処理しています。"
   ]
  },
  {
   "cell_type": "code",
   "execution_count": 3,
   "metadata": {
    "collapsed": true
   },
   "outputs": [],
   "source": [
    "def conv2d(x, W):\n",
    "    return tf.nn.conv2d(x, W, strides=[1, 1, 1, 1], padding='SAME')\n",
    "\n",
    "def max_pool_2x2(x):\n",
    "    return tf.nn.max_pool(x, ksize=[1, 2, 2, 1],\n",
    "                        strides=[1, 2, 2, 1], padding='SAME')"
   ]
  },
  {
   "cell_type": "markdown",
   "metadata": {},
   "source": [
    "### 入出力の設計(入力28*28次元、出力10次元)\n",
    "先ほど確認した通り、28*28 pixelの二次元画像を入力、１０次元の確率分布を出力するため、以下のように入出力を定義しておきます。"
   ]
  },
  {
   "cell_type": "code",
   "execution_count": 4,
   "metadata": {
    "collapsed": true
   },
   "outputs": [],
   "source": [
    "x_image = tf.reshape(x, [-1,28,28,1])\n",
    "y_ = tf.placeholder(tf.float32, shape=[None, 10])"
   ]
  },
  {
   "cell_type": "markdown",
   "metadata": {},
   "source": [
    "### 入力層-出力層間のユニット結合の構造設計\n",
    "\n",
    "今回は、活性化関数としてReLU関数を利用しています。  \n",
    "出力層以外の活性化関数として、よく利用されている関数です。  \n",
    "sigmoid関数などの他の有名な活性化関数と比較して、学習の収束が早いことや勾配消失問題を解決しやすくなるなどといったメリットがあります。"
   ]
  },
  {
   "cell_type": "code",
   "execution_count": 5,
   "metadata": {
    "collapsed": true
   },
   "outputs": [],
   "source": [
    "# 入力層 - 第1畳み込み層間の結合における処理と出力 (フィルターサイズ: 5*5、入力: 1チャネル、フィルター枚数: 32枚)\n",
    "W_conv1 = weight_variable([5, 5, 1, 32])\n",
    "b_conv1 = bias_variable([32])\n",
    "h_conv1 = tf.nn.relu(conv2d(x_image, W_conv1) + b_conv1)\n",
    "\n",
    "# 第1畳み込み層 - 第1プーリング層の結合における処理と出力 (フィルターサイズ: 2*2)\n",
    "h_pool1 = max_pool_2x2(h_conv1)"
   ]
  },
  {
   "cell_type": "code",
   "execution_count": 6,
   "metadata": {
    "collapsed": true
   },
   "outputs": [],
   "source": [
    "# 第1プーリング層 - 第2畳み込み層の結合における処理と出力 (フィルターサイズ: 5*5、入力: 32チャネル、フィルター枚数: 64枚)\n",
    "W_conv2 = weight_variable([5, 5, 32, 64])\n",
    "b_conv2 = bias_variable([64])\n",
    "h_conv2 = tf.nn.relu(conv2d(h_pool1, W_conv2) + b_conv2)\n",
    "\n",
    "# 第2畳み込み層 - 第2プーリング層の結合における処理と出力 (フィルターサイズ: 2*2)\n",
    "h_pool2 = max_pool_2x2(h_conv2)"
   ]
  },
  {
   "cell_type": "code",
   "execution_count": 7,
   "metadata": {
    "collapsed": true
   },
   "outputs": [],
   "source": [
    "# 第2プーリング層 - 第1全結合層の結合における処理と出力\n",
    "W_fc1 = weight_variable([7 * 7 * 64, 1024])\n",
    "b_fc1 = bias_variable([1024])\n",
    "h_pool2_flat = tf.reshape(h_pool2, [-1, 7*7*64])\n",
    "h_fc1 = tf.nn.relu(tf.matmul(h_pool2_flat, W_fc1) + b_fc1)\n",
    "\n",
    "# 第2全結合層 - 出力層への結合\n",
    "W_fc2 = weight_variable([1024, 10])\n",
    "b_fc2 = bias_variable([10])"
   ]
  },
  {
   "cell_type": "markdown",
   "metadata": {},
   "source": [
    "### 出力層の出力定義\n",
    "前回同様、出力層の活性化関数として、softmax関数を用いています。  \n",
    "今回はドロップアウトという手法を導入することにより、局所解への収束を防いでくれます。  \n",
    "詳しくはドロップアウトに関する論文を参考にしてください。  \n",
    "https://www.cs.toronto.edu/~hinton/absps/JMLRdropout.pdf"
   ]
  },
  {
   "cell_type": "code",
   "execution_count": 8,
   "metadata": {
    "collapsed": true
   },
   "outputs": [],
   "source": [
    "keep_prob = tf.placeholder(tf.float32)\n",
    "h_fc1_drop = tf.nn.dropout(h_fc1, keep_prob)\n",
    "y_conv=tf.nn.softmax(tf.matmul(h_fc1_drop, W_fc2) + b_fc2)"
   ]
  },
  {
   "cell_type": "markdown",
   "metadata": {},
   "source": [
    "### 損失関数の定義\n",
    "前回同様、損失関数として、cross-entopy関数を用いています。"
   ]
  },
  {
   "cell_type": "code",
   "execution_count": 9,
   "metadata": {
    "collapsed": true
   },
   "outputs": [],
   "source": [
    "cross_entropy = tf.reduce_mean(-tf.reduce_sum(y_ * tf.log(y_conv), reduction_indices=[1]))"
   ]
  },
  {
   "cell_type": "markdown",
   "metadata": {},
   "source": [
    "### 最適化アルゴリズムの定義\n",
    "\n",
    "今回はAdamと呼ばれる最適化アルゴリズムを利用している。  \n",
    "詳しくはAdamに関する論文を参考にしてください。  \n",
    "https://arxiv.org/pdf/1412.6980.pdf"
   ]
  },
  {
   "cell_type": "code",
   "execution_count": 10,
   "metadata": {
    "collapsed": true
   },
   "outputs": [],
   "source": [
    "train_step = tf.train.AdamOptimizer(1e-4).minimize(cross_entropy)"
   ]
  },
  {
   "cell_type": "markdown",
   "metadata": {},
   "source": [
    "### 評価関数の定義\n",
    "今回も正解率を用いて評価します。"
   ]
  },
  {
   "cell_type": "code",
   "execution_count": 11,
   "metadata": {
    "collapsed": true
   },
   "outputs": [],
   "source": [
    "correct_prediction = tf.equal(tf.argmax(y_conv,1), tf.argmax(y_,1))\n",
    "accuracy = tf.reduce_mean(tf.cast(correct_prediction, tf.float32))"
   ]
  },
  {
   "cell_type": "markdown",
   "metadata": {},
   "source": [
    "### パラメータの学習\n",
    "\n",
    "学習経過も出力しています。だいたい20-30分程度で学習が終わります。\n",
    "スペックによるよ(^q^)  \n",
    "ちなみに、tensorflowは勝手にマルチスレッドでぺろぺろしてくれるので、ロジックの実装に集中できますね！  \n",
    "GPUが搭載されていれば、GPU上での計算も勝手にぺろっと計算してくれるらしい！やるねtensorflow！！"
   ]
  },
  {
   "cell_type": "code",
   "execution_count": 12,
   "metadata": {
    "collapsed": false
   },
   "outputs": [
    {
     "name": "stdout",
     "output_type": "stream",
     "text": [
      "step 0, training accuracy 0.06\n",
      "step 2000, training accuracy 0.96\n",
      "step 4000, training accuracy 0.96\n",
      "step 6000, training accuracy 1\n",
      "step 8000, training accuracy 0.98\n",
      "step 10000, training accuracy 1\n",
      "step 12000, training accuracy 1\n",
      "step 14000, training accuracy 1\n",
      "step 16000, training accuracy 1\n",
      "step 18000, training accuracy 0.98\n"
     ]
    }
   ],
   "source": [
    "sess.run(tf.initialize_all_variables())\n",
    "for i in range(20000):\n",
    "    batch = mnist.train.next_batch(50)\n",
    "    if i%2000 == 0:\n",
    "        train_accuracy = accuracy.eval(feed_dict={\n",
    "            x:batch[0], y_: batch[1], keep_prob: 1.0})\n",
    "        print(\"step %d, training accuracy %g\"%(i, train_accuracy))\n",
    "    train_step.run(feed_dict={x: batch[0], y_: batch[1], keep_prob: 0.5})"
   ]
  },
  {
   "cell_type": "markdown",
   "metadata": {},
   "source": [
    "### 評価"
   ]
  },
  {
   "cell_type": "code",
   "execution_count": 13,
   "metadata": {
    "collapsed": false
   },
   "outputs": [
    {
     "name": "stdout",
     "output_type": "stream",
     "text": [
      "test accuracy 0.9913\n"
     ]
    }
   ],
   "source": [
    "print(\"test accuracy %g\"%accuracy.eval(feed_dict={\n",
    "    x: mnist.test.images, y_: mnist.test.labels, keep_prob: 1.0}))"
   ]
  },
  {
   "cell_type": "markdown",
   "metadata": {},
   "source": [
    "# 99%おおおおおおおおお！\n",
    "\n",
    "tensorflowのことを「テンソルフロー」か「テンサーフロー」のどちらで呼ぶかについて流派があるみたいですね  \n",
    "自分は俄然「テンソルフロー」派です！\n",
    "\n",
    "お疲れさまでした。"
   ]
  }
 ],
 "metadata": {
  "kernelspec": {
   "display_name": "Python 3",
   "language": "python",
   "name": "python3"
  },
  "language_info": {
   "codemirror_mode": {
    "name": "ipython",
    "version": 3
   },
   "file_extension": ".py",
   "mimetype": "text/x-python",
   "name": "python",
   "nbconvert_exporter": "python",
   "pygments_lexer": "ipython3",
   "version": "3.5.2"
  }
 },
 "nbformat": 4,
 "nbformat_minor": 1
}
